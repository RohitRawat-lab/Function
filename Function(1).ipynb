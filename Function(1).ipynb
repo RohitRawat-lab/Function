{
  "nbformat": 4,
  "nbformat_minor": 0,
  "metadata": {
    "colab": {
      "provenance": []
    },
    "kernelspec": {
      "name": "python3",
      "display_name": "Python 3"
    },
    "language_info": {
      "name": "python"
    }
  },
  "cells": [
    {
      "cell_type": "code",
      "execution_count": null,
      "metadata": {
        "id": "trWChAot-8fj"
      },
      "outputs": [],
      "source": []
    },
    {
      "cell_type": "markdown",
      "source": [
        "1.  What is the difference between a function and a method in Python?\n",
        "             \n",
        "             Ans. In programming, a function is a set of instructions that can be used independently, while a method is a function that's associated with an object\n"
      ],
      "metadata": {
        "id": "5cKb_Djk_t9g"
      }
    },
    {
      "cell_type": "code",
      "source": [
        "#Example\n",
        "def add(a, b):\n",
        "  return a + b\n",
        "\n",
        "\n",
        "\n",
        "result = add(3, 4)\n",
        "print(result)\n",
        "\n",
        "\n"
      ],
      "metadata": {
        "colab": {
          "base_uri": "https://localhost:8080/"
        },
        "id": "GqdoewAKAGkB",
        "outputId": "57fe868b-4d62-4bb7-8fac-362d552f26bf"
      },
      "execution_count": null,
      "outputs": [
        {
          "output_type": "stream",
          "name": "stdout",
          "text": [
            "7\n"
          ]
        }
      ]
    },
    {
      "cell_type": "markdown",
      "source": [
        "2.Explain the concept of function arguments and parameters in Python.\n",
        "                   \n",
        "                    Ans. Arguments:- Arguments are specified after the function name, inside the parentheses. You can add as many arguments as you want, just separate them with a comma.\n",
        "                \n",
        "                 Parameters:- Parameters are variables defined in a function declaration. This act as placeholders for the values (arguments) that will be passed to the function.\n"
      ],
      "metadata": {
        "id": "T5G7moXdAPIN"
      }
    },
    {
      "cell_type": "code",
      "source": [
        "#Example of Arguments\n",
        "# Function definition with parameters\n",
        "def greet(name, age):\n",
        "  print(f\"Hello {name}, you are {age} years old.\")\n",
        "\n",
        "\n",
        "    # Function call with arguments\n",
        "greet(\"Rohit\", 25)\n",
        "\n"
      ],
      "metadata": {
        "colab": {
          "base_uri": "https://localhost:8080/"
        },
        "id": "zvOcQWhhAiI5",
        "outputId": "861fb33b-be6c-4eed-e6ad-ff8378d3137c"
      },
      "execution_count": null,
      "outputs": [
        {
          "output_type": "stream",
          "name": "stdout",
          "text": [
            "Hello Rohit, you are 25 years old.\n"
          ]
        }
      ]
    },
    {
      "cell_type": "markdown",
      "source": [
        "3. What are the different ways to define and call a function in Python?\n",
        "     \n",
        "     Ans. A function is a block of code which only runs when it is called. You can pass data, known as parameters, into a function.A function can return data as a result.\n",
        "      To call a function in Python, you simply type the name of the function followed by parentheses (). If the function takes any arguments, they are included within the parentheses.\n",
        "\n",
        "      \n"
      ],
      "metadata": {
        "id": "-4CZLFhXC7p1"
      }
    },
    {
      "cell_type": "code",
      "source": [
        "#Example\n",
        "def fun():\n",
        "  print(\"Welcome rohit\")\n",
        "\n",
        "fun()\n",
        "\n",
        "\n",
        "\n",
        "\n",
        "\n"
      ],
      "metadata": {
        "colab": {
          "base_uri": "https://localhost:8080/"
        },
        "id": "mWTCCheXDStp",
        "outputId": "52ebf17f-069a-4af6-e2c1-d6f64dd92761"
      },
      "execution_count": null,
      "outputs": [
        {
          "output_type": "stream",
          "name": "stdout",
          "text": [
            "Welcome rohit\n"
          ]
        }
      ]
    },
    {
      "cell_type": "markdown",
      "source": [
        "4.What is the purpose of the `return` statement in a Python function?\n",
        "   \n",
        "   Ans.A return statement is used to end the execution of the function call and it “returns” the value of the expression following the return keyword to the caller."
      ],
      "metadata": {
        "id": "fcWY72JfDbk2"
      }
    },
    {
      "cell_type": "code",
      "source": [
        "#example:-\n",
        "def add(a, b):\n",
        "   # returning sum of a and b\n",
        "       return a + b\n",
        "def is_true(a):\n",
        "  # returning boolean of a\n",
        "      return bool(a)\n",
        "# calling function\n",
        "res = add(2, 3)\n",
        "print(res)\n",
        "\n",
        "res = is_true(2<5)\n",
        "print(res)"
      ],
      "metadata": {
        "colab": {
          "base_uri": "https://localhost:8080/"
        },
        "id": "SWkkSEzjDsDC",
        "outputId": "351a82d2-278e-4977-c313-e6f00748450b"
      },
      "execution_count": null,
      "outputs": [
        {
          "output_type": "stream",
          "name": "stdout",
          "text": [
            "5\n",
            "True\n"
          ]
        }
      ]
    },
    {
      "cell_type": "markdown",
      "source": [
        "5. What are iterators in Python and how do they differ from iterables?\n",
        "   \n",
        "   Ans.Iterators are defined as an object that counts iteration via an internal state variable. The variable, in this case, is NOT set to zero when the iteration crosses the last item, instead, StopIteration() is raised to indicate the end of the iteration.\n",
        "\n",
        "   Iterable is an object that can be looped through, or iterated over, to access its elements one by one."
      ],
      "metadata": {
        "id": "V2Eknk8OEDs3"
      }
    },
    {
      "cell_type": "code",
      "source": [
        "\n",
        "# list of cities\n",
        "cities = [\"Berlin\", \"Vienna\", \"Zurich\"]\n",
        "\n",
        " # initialize the object\n",
        "\n",
        "iterator_obj = iter(cities)\n",
        "\n",
        "print(next(iterator_obj))\n",
        "print(next(iterator_obj))\n",
        "print(next(iterator_obj))\n",
        "\n"
      ],
      "metadata": {
        "colab": {
          "base_uri": "https://localhost:8080/"
        },
        "id": "Ub2DLDFuBAf6",
        "outputId": "4f5b6ec0-342a-4024-aecf-4f652d462d46"
      },
      "execution_count": null,
      "outputs": [
        {
          "output_type": "stream",
          "name": "stdout",
          "text": [
            "Berlin\n",
            "Vienna\n",
            "Zurich\n"
          ]
        }
      ]
    },
    {
      "cell_type": "markdown",
      "source": [
        "6.Explain the concept of generators in Python and how they are defined.\n",
        "  \n",
        "  Ans.A generator function is a special type of function that returns an iterator object. Instead of using return to send back a single value, generator functions use yield to produce a series of results over time. This allows the function to generate values and pause its execution after each yield, maintaining its state between iterations.\n",
        "  "
      ],
      "metadata": {
        "id": "eFPS2_SxIYbo"
      }
    },
    {
      "cell_type": "code",
      "source": [
        "#Example\n",
        "def fun(max):\n",
        "  cnt = 1\n",
        "  while cnt <= max:\n",
        "    yield cnt\n",
        "    cnt += 1\n",
        "ctr = fun(5)\n",
        "for n in ctr:\n",
        "  print(n)\n"
      ],
      "metadata": {
        "colab": {
          "base_uri": "https://localhost:8080/"
        },
        "id": "zyPIl_h2Ij38",
        "outputId": "657a3179-33d4-4bcc-ec34-01d5a80d3a17"
      },
      "execution_count": null,
      "outputs": [
        {
          "output_type": "stream",
          "name": "stdout",
          "text": [
            "1\n",
            "2\n",
            "3\n",
            "4\n",
            "5\n"
          ]
        }
      ]
    },
    {
      "cell_type": "markdown",
      "source": [
        "7. What are the advantages of using generators over regular functions?\n",
        "\n",
        " Ans.The syntax for creating a generator is similar to that of a regular function, with a few key differences. To create a generator, you use the yield keyword instead of the return keyword, and you wrap the function definition in parentheses instead of square brackets.\n",
        " Advantages of Generators Over Regular Loops:- Readability,Memory Efficiency,Speed."
      ],
      "metadata": {
        "id": "vrN9Ab7jJH1j"
      }
    },
    {
      "cell_type": "code",
      "source": [
        "#Example\n",
        "def count_up_to(limit):\n",
        "    count = 0\n",
        "    while count < limit:\n",
        "        yield count\n",
        "        count += 1\n",
        "counter = count_up_to(5)\n",
        "for num in counter:\n",
        "    print(num)\n"
      ],
      "metadata": {
        "colab": {
          "base_uri": "https://localhost:8080/"
        },
        "id": "6cZ3PUcoJWFj",
        "outputId": "aabe49e6-d7cc-4127-8166-bcfcdca910c3"
      },
      "execution_count": null,
      "outputs": [
        {
          "output_type": "stream",
          "name": "stdout",
          "text": [
            "0\n",
            "1\n",
            "2\n",
            "3\n",
            "4\n"
          ]
        }
      ]
    },
    {
      "cell_type": "markdown",
      "source": [
        "8.What is a lambda function in Python and when is it typically used?\n",
        "\n",
        " Ans.Python Lambda Functions are anonymous functions means that the function is without a name.\n",
        " we defined a lambda function(upper) to convert a string to its upper case using upper().\n"
      ],
      "metadata": {
        "id": "iRSzyrawLRe1"
      }
    },
    {
      "cell_type": "code",
      "source": [
        "#ex\n",
        "s1 = 'Rohit Rawat'\n",
        "s2 = lambda func: func.upper()\n",
        "print(s2(s1))\n"
      ],
      "metadata": {
        "colab": {
          "base_uri": "https://localhost:8080/"
        },
        "id": "Hq1gp972LaBu",
        "outputId": "b7ef10f0-a996-432e-d606-e25096bf912e"
      },
      "execution_count": null,
      "outputs": [
        {
          "output_type": "stream",
          "name": "stdout",
          "text": [
            "ROHIT RAWAT\n"
          ]
        }
      ]
    },
    {
      "cell_type": "markdown",
      "source": [
        "9. Explain the purpose and usage of the `map()` function in Python.\n",
        "\n",
        " Ans.The map() function is used to apply a given function to every item of an iterable, such as a list or tuple, and returns a map object.\n"
      ],
      "metadata": {
        "id": "dCRIYhllLmDy"
      }
    },
    {
      "cell_type": "code",
      "source": [
        "s = ['1', '2', '3', '4']\n",
        "res = map(int, s)\n",
        "print(list(res))\n"
      ],
      "metadata": {
        "colab": {
          "base_uri": "https://localhost:8080/"
        },
        "id": "x1py2sGTLz_v",
        "outputId": "a6a07b21-1589-453e-92aa-04b5febd7ddc"
      },
      "execution_count": null,
      "outputs": [
        {
          "output_type": "stream",
          "name": "stdout",
          "text": [
            "[1, 2, 3, 4]\n"
          ]
        }
      ]
    },
    {
      "cell_type": "markdown",
      "source": [
        "10. What is the difference between `map()`, `reduce()`, and `filter()` functions in Python?\n",
        "\n",
        " Ans.The map() function iterates through all items in the given iterable and executes the function we passed as an argument on each of them.\n",
        "\n",
        " As the name suggests, filter() forms a new list that contains only elements that satisfy a certain condition, i.e. the function we passed returns True.\n",
        "\n",
        "Reduce() works differently than map() and filter(). It does not return a new list based on the function and iterable we've passed. Instead, it returns a single value."
      ],
      "metadata": {
        "id": "YHS-EhRlL428"
      }
    },
    {
      "cell_type": "code",
      "source": [
        "#example of map():-\n",
        "fruit = [\"Apple\", \"Banana\", \"Pear\", \"Apricot\", \"Orange\"]\n",
        "map_object = map(lambda s: s[0] == \"A\", fruit)\n",
        "\n",
        "print(list(map_object))"
      ],
      "metadata": {
        "colab": {
          "base_uri": "https://localhost:8080/"
        },
        "id": "JvmPZXiJMFUW",
        "outputId": "adfbde27-3c13-4f62-cc0e-ac19587abe80"
      },
      "execution_count": null,
      "outputs": [
        {
          "output_type": "stream",
          "name": "stdout",
          "text": [
            "[True, False, False, True, False]\n"
          ]
        }
      ]
    },
    {
      "cell_type": "code",
      "source": [
        "#example of filter():-\n",
        "fruit = [\"Apple\", \"Banana\", \"Pear\", \"Apricot\", \"Orange\"]\n",
        "filter_object = filter(lambda s: s[0] == \"A\", fruit)\n",
        "\n",
        "print(list(filter_object))\n"
      ],
      "metadata": {
        "colab": {
          "base_uri": "https://localhost:8080/"
        },
        "id": "R4Ct0JmkMeoL",
        "outputId": "8bdca95f-1fff-4a19-bef7-c46be46cb118"
      },
      "execution_count": null,
      "outputs": [
        {
          "output_type": "stream",
          "name": "stdout",
          "text": [
            "['Apple', 'Apricot']\n"
          ]
        }
      ]
    },
    {
      "cell_type": "code",
      "source": [
        "#example:-\n",
        "from functools import reduce\n",
        "\n",
        "list = [2, 4, 7, 3]\n",
        "print(reduce(lambda x, y: x + y, list))\n",
        "print(\"With an initial value: \" + str(reduce(lambda x, y: x + y, list, 10)))"
      ],
      "metadata": {
        "colab": {
          "base_uri": "https://localhost:8080/"
        },
        "id": "PG9perBwMlJY",
        "outputId": "7f014729-d7d2-48ab-9366-bfa96a12de98"
      },
      "execution_count": null,
      "outputs": [
        {
          "output_type": "stream",
          "name": "stdout",
          "text": [
            "16\n",
            "With an initial value: 26\n"
          ]
        }
      ]
    },
    {
      "cell_type": "markdown",
      "source": [
        "11.. Using pen & Paper write the internal mechanism for sum operation using reduce function on this given\n",
        "list:[47,11,42,13];\n",
        "\n",
        " Ans.from functools import reduce\n",
        "\n",
        " # Function to add two numbers\n",
        " def add(x, y):\n",
        "     return x + y\n",
        "\n",
        "     a = [47,11,42,13]\n",
        "     res = reduce(add, a)\n",
        "\n",
        "     print(res)"
      ],
      "metadata": {
        "id": "bmuPkST4Mucc"
      }
    },
    {
      "cell_type": "markdown",
      "source": [
        "PRACTICAL\n"
      ],
      "metadata": {
        "id": "mukT0sn8NFIB"
      }
    },
    {
      "cell_type": "markdown",
      "source": [
        "1. Write a Python function that takes a list of numbers as input and returns the sum of all even numbers in\n",
        "the list."
      ],
      "metadata": {
        "id": "VvbmByrINOwc"
      }
    },
    {
      "cell_type": "code",
      "source": [
        "# initializing list\n",
        "test_list = [1, 2, 3, 4, 5, 6, 7, 8, 9, 10]\n",
        "print(\"The original list is : \" + str(test_list))\n",
        "\n",
        "odd_sum = 0\n",
        "even_sum = 0\n",
        "\n",
        "for sub in test_list:\n",
        "    for ele in str(sub):\n",
        "\n",
        "       if int(ele) % 2 == 0:\n",
        "           even_sum += int(ele)\n",
        "       else:\n",
        "           odd_sum += int(ele)\n",
        "\n",
        "print(\"Odd digit sum : \" + str(odd_sum))\n",
        "print(\"Even digit sum : \" + str(even_sum))\n"
      ],
      "metadata": {
        "colab": {
          "base_uri": "https://localhost:8080/"
        },
        "id": "y-taL7i4NIAa",
        "outputId": "f8bfa10f-1bca-41cc-a58c-305f7c7aa6fb"
      },
      "execution_count": null,
      "outputs": [
        {
          "output_type": "stream",
          "name": "stdout",
          "text": [
            "The original list is : [1, 2, 3, 4, 5, 6, 7, 8, 9, 10]\n",
            "Odd digit sum : 26\n",
            "Even digit sum : 20\n"
          ]
        }
      ]
    },
    {
      "cell_type": "markdown",
      "source": [
        "2. Create a Python function that accepts a string and returns the reverse of that string."
      ],
      "metadata": {
        "id": "Hq_m3BjNPook"
      }
    },
    {
      "cell_type": "code",
      "source": [
        "def reverse_string(s):\n",
        "   return s[::-1]\n",
        "text = \"ROHIT\"\n",
        "print(reverse_string(text))\n"
      ],
      "metadata": {
        "colab": {
          "base_uri": "https://localhost:8080/"
        },
        "id": "0alIWFNuPtkd",
        "outputId": "f7e15805-a85c-4b18-fb91-94fa331db251"
      },
      "execution_count": null,
      "outputs": [
        {
          "output_type": "stream",
          "name": "stdout",
          "text": [
            "TIHOR\n"
          ]
        }
      ]
    },
    {
      "cell_type": "markdown",
      "source": [
        "3. Implement a Python function that takes a list of integers and returns a new list containing the squares of\n",
        "each number."
      ],
      "metadata": {
        "id": "eBvdC264QDy4"
      }
    },
    {
      "cell_type": "code",
      "source": [
        "def square_numbers(numbers):\n",
        "    return [num ** 2 for num in numbers]\n",
        "numbers = [1, 2, 3, 4, 5]\n",
        "print(square_numbers(numbers))  # Output: [1, 4, 9, 16, 25]\n"
      ],
      "metadata": {
        "colab": {
          "base_uri": "https://localhost:8080/"
        },
        "id": "AATO8UbnQHFT",
        "outputId": "e003d6d2-52be-43b8-8282-d76ef996d1c4"
      },
      "execution_count": null,
      "outputs": [
        {
          "output_type": "stream",
          "name": "stdout",
          "text": [
            "[1, 4, 9, 16, 25]\n"
          ]
        }
      ]
    },
    {
      "cell_type": "markdown",
      "source": [
        "4.Write a Python function that checks if a given number is prime or not from 1 to 200."
      ],
      "metadata": {
        "id": "BWw65iMgQRZe"
      }
    },
    {
      "cell_type": "code",
      "source": [
        "def is_prime(n):\n",
        "    if n < 2:\n",
        "        return False\n",
        "    for i in range(2, int(n ** 0.5) + 1):\n",
        "        if n % i == 0:\n",
        "            return False\n",
        "    return True\n",
        "\n",
        "prime_numbers = [num for num in range(1, 201) if is_prime(num)]\n",
        "print(prime_numbers)\n"
      ],
      "metadata": {
        "colab": {
          "base_uri": "https://localhost:8080/"
        },
        "id": "jXDIvPFBQVp3",
        "outputId": "d1aa6362-897f-4446-dad2-5abb4ba61593"
      },
      "execution_count": null,
      "outputs": [
        {
          "output_type": "stream",
          "name": "stdout",
          "text": [
            "[2, 3, 5, 7, 11, 13, 17, 19, 23, 29, 31, 37, 41, 43, 47, 53, 59, 61, 67, 71, 73, 79, 83, 89, 97, 101, 103, 107, 109, 113, 127, 131, 137, 139, 149, 151, 157, 163, 167, 173, 179, 181, 191, 193, 197, 199]\n"
          ]
        }
      ]
    },
    {
      "cell_type": "markdown",
      "source": [
        "5.Create an iterator class in Python that generates the Fibonacci sequence up to a specified number of\n",
        "terms."
      ],
      "metadata": {
        "id": "iJxO2ZhpQv5V"
      }
    },
    {
      "cell_type": "code",
      "source": [
        "class FibonacciIterator:\n",
        "    def __init__(self, num_terms):\n",
        "        self.num_terms = num_terms\n",
        "        self.count = 0\n",
        "        self.a, self.b = 0, 1\n",
        "\n",
        "    def __iter__(self):\n",
        "        return self\n",
        "\n",
        "    def __next__(self):\n",
        "        if self.count < self.num_terms:\n",
        "            result = self.a\n",
        "            self.a, self.b = self.b, self.a + self.b\n",
        "            self.count += 1\n",
        "            return result\n",
        "        else:\n",
        "            raise StopIteration\n",
        "fib_iterator = FibonacciIterator(10)\n",
        "for number in fib_iterator:\n",
        "    print(number)\n"
      ],
      "metadata": {
        "colab": {
          "base_uri": "https://localhost:8080/"
        },
        "id": "1OTfb8GrQ0Kx",
        "outputId": "dfa68b52-6370-42b9-bd2e-1ed9b5fc85ae"
      },
      "execution_count": null,
      "outputs": [
        {
          "output_type": "stream",
          "name": "stdout",
          "text": [
            "0\n",
            "1\n",
            "1\n",
            "2\n",
            "3\n",
            "5\n",
            "8\n",
            "13\n",
            "21\n",
            "34\n"
          ]
        }
      ]
    },
    {
      "cell_type": "markdown",
      "source": [
        "6.Write a generator function in Python that yields the powers of 2 up to a given exponent."
      ],
      "metadata": {
        "id": "5JbrhOxUUvgQ"
      }
    },
    {
      "cell_type": "code",
      "source": [
        "def powers_of_two(max_exponent):\n",
        "    for exponent in range(max_exponent + 1):\n",
        "        yield 2 ** exponent\n",
        "for power in powers_of_two(5):\n",
        "    print(power)\n"
      ],
      "metadata": {
        "colab": {
          "base_uri": "https://localhost:8080/"
        },
        "id": "cPQtjbzoU1n7",
        "outputId": "43ff2f43-2ab2-4426-bd85-f9fc9de9f192"
      },
      "execution_count": null,
      "outputs": [
        {
          "output_type": "stream",
          "name": "stdout",
          "text": [
            "1\n",
            "2\n",
            "4\n",
            "8\n",
            "16\n",
            "32\n"
          ]
        }
      ]
    },
    {
      "cell_type": "markdown",
      "source": [
        "7. Implement a generator function that reads a file line by line and yields each line as a string."
      ],
      "metadata": {
        "id": "DipnlPo0VFK_"
      }
    },
    {
      "cell_type": "code",
      "source": [
        "def read_file_line_by_line(file_path):\n",
        "    with open(file_path, 'r') as file:\n",
        "        for line in file:\n",
        "            yield line.strip()\n",
        ""
      ],
      "metadata": {
        "id": "G9RR0XfvsBXQ"
      },
      "execution_count": 1,
      "outputs": []
    },
    {
      "cell_type": "markdown",
      "source": [
        "8. Use a lambda function in Python to sort a list of tuples based on the second element of each tuple."
      ],
      "metadata": {
        "id": "VJUdUST3ZszK"
      }
    },
    {
      "cell_type": "code",
      "source": [
        "a = [(1, 3), (4, 1), (2, 2)]\n",
        "res = sorted(a, key=lambda x: x[1])\n",
        "print(res)\n"
      ],
      "metadata": {
        "colab": {
          "base_uri": "https://localhost:8080/"
        },
        "id": "I7h9_4beZxNu",
        "outputId": "148fffd7-b366-4f7e-98ae-255feec92a35"
      },
      "execution_count": null,
      "outputs": [
        {
          "output_type": "stream",
          "name": "stdout",
          "text": [
            "[(4, 1), (2, 2), (1, 3)]\n"
          ]
        }
      ]
    },
    {
      "cell_type": "markdown",
      "source": [
        "9. Write a Python program that uses `map()` to convert a list of temperatures from Celsius to Fahrenheit."
      ],
      "metadata": {
        "id": "Hg3-5vtvZ9uy"
      }
    },
    {
      "cell_type": "code",
      "source": [
        "celsius = 47\n",
        "fahrenheit = (celsius * 1.8) + 32\n",
        "print('%.2f Celsius is equivalent to: %.2f Fahrenheit'\t% (celsius, fahrenheit))\n"
      ],
      "metadata": {
        "colab": {
          "base_uri": "https://localhost:8080/"
        },
        "id": "LNorMYaCaHn3",
        "outputId": "61b23967-668f-4876-eb7e-91c1ba2705aa"
      },
      "execution_count": null,
      "outputs": [
        {
          "output_type": "stream",
          "name": "stdout",
          "text": [
            "47.00 Celsius is equivalent to: 116.60 Fahrenheit\n"
          ]
        }
      ]
    },
    {
      "cell_type": "markdown",
      "source": [
        "10. Create a Python program that uses `filter()` to remove all the vowels from a given string."
      ],
      "metadata": {
        "id": "_G3ujxnwaaF7"
      }
    },
    {
      "cell_type": "code",
      "source": [
        "def remove_vowels(input_string):\n",
        "    vowels = \"aeiouAEIOU\"\n",
        "    result = ''.join(filter(lambda x: x not in vowels, input_string))\n",
        "    return result\n",
        "input_string = \"Hello, World!\"\n",
        "output_string = remove_vowels(input_string)\n",
        "print(output_string)"
      ],
      "metadata": {
        "colab": {
          "base_uri": "https://localhost:8080/"
        },
        "id": "ryV-pHPpaeT-",
        "outputId": "6ace1205-bb75-4840-9012-139643e50e4e"
      },
      "execution_count": null,
      "outputs": [
        {
          "output_type": "stream",
          "name": "stdout",
          "text": [
            "Hll, Wrld!\n"
          ]
        }
      ]
    },
    {
      "cell_type": "markdown",
      "source": [
        "11. Imagine an accounting routine used in a book shop. It works on a list with sublists, which look like this:\n",
        "\n",
        "\n",
        "\n",
        "\n",
        "\n",
        "\n",
        "\n",
        "Write a Python program, which returns a list with 2-tuples. Each tuple consists of the order number and the\n",
        "product of the price per item and the quantity. The product should be increased by 10,- € if the value of the\n",
        "order is smaller than 100,00 €.\n",
        "\n",
        "Write a Python program using lambda and map.\n",
        "\n"
      ],
      "metadata": {
        "id": "mnVYxIKpbYum"
      }
    },
    {
      "cell_type": "code",
      "source": [
        "orders = [\n",
        "    [34587, \"Learning Python, Mark Lutz\", 4, 40.95],\n",
        "    [98762, \"Programming Python, Mark Lutz\", 5, 56.80],\n",
        "    [77226, \"Head First Python, Paul Barry\", 3, 32.95],\n",
        "    [88112, \"Einführung in Python3, Bernd Klein\", 3, 24.99]\n",
        "\n",
        "]\n",
        "result = list(map(lambda order: (order[0], order[2] * order[3] if order[2] * order[3] >= 100 else order[2] * order[3] + 10), orders))\n",
        "print(result)\n"
      ],
      "metadata": {
        "id": "0lElUMFUdjX8"
      },
      "execution_count": null,
      "outputs": []
    }
  ]
}